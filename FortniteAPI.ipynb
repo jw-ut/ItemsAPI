{
 "cells": [
  {
   "cell_type": "markdown",
   "id": "4a300623",
   "metadata": {},
   "source": [
    "## Fortnite Items from API\n",
    "I wanted to visualize the amount of differing rarities of Fortnite items from the in-game shop. First I imported the needed libraries, like requests json and pandas.\n",
    "- Used requests to get a 200 response from the api\n",
    "- My api call was very simple, just the base url itself, and no extra parameters needed\n",
    "- Used json.loads and selected the right index value from the converted type in order to make dataframe object\n",
    "- After converting to dataframe object, I started cleaning the data"
   ]
  },
  {
   "cell_type": "markdown",
   "id": "b26557ab",
   "metadata": {},
   "source": [
    "## Cleaning the data\n",
    "I dropped the columns that I didn't need, like image links and tags or video preview urls\n",
    "- I wanted to clean the data with replacing values so I just converted the entire dataframe to string type\n",
    "- This would make conditions like str.contain much easier to use\n",
    "- Replaced the messy rarity brackets with simple one-word categories\n",
    "- I also replaced timestamps with just the annual year value, since that's what I was looking for"
   ]
  },
  {
   "cell_type": "code",
   "execution_count": 23,
   "id": "e40c13fa",
   "metadata": {},
   "outputs": [
    {
     "data": {
      "text/html": [
       "<div>\n",
       "<style scoped>\n",
       "    .dataframe tbody tr th:only-of-type {\n",
       "        vertical-align: middle;\n",
       "    }\n",
       "\n",
       "    .dataframe tbody tr th {\n",
       "        vertical-align: top;\n",
       "    }\n",
       "\n",
       "    .dataframe thead th {\n",
       "        text-align: right;\n",
       "    }\n",
       "</style>\n",
       "<table border=\"1\" class=\"dataframe\">\n",
       "  <thead>\n",
       "    <tr style=\"text-align: right;\">\n",
       "      <th></th>\n",
       "      <th>id</th>\n",
       "      <th>name</th>\n",
       "      <th>description</th>\n",
       "      <th>rarity</th>\n",
       "      <th>added</th>\n",
       "    </tr>\n",
       "  </thead>\n",
       "  <tbody>\n",
       "    <tr>\n",
       "      <th>0</th>\n",
       "      <td>Backpack_AllKnowing</td>\n",
       "      <td>Dark Grasp</td>\n",
       "      <td>Clutching at a grave power.</td>\n",
       "      <td>Rare</td>\n",
       "      <td>2022</td>\n",
       "    </tr>\n",
       "    <tr>\n",
       "      <th>1</th>\n",
       "      <td>Backpack_Amour</td>\n",
       "      <td>Folly's Heartcase</td>\n",
       "      <td>Hard-hearted and stylishly sharp.</td>\n",
       "      <td>Rare</td>\n",
       "      <td>2023</td>\n",
       "    </tr>\n",
       "    <tr>\n",
       "      <th>2</th>\n",
       "      <td>Backpack_Apprentice</td>\n",
       "      <td>Mind's Eye</td>\n",
       "      <td>The ancient symbol of the Whispered Conclave.</td>\n",
       "      <td>Legendary</td>\n",
       "      <td>2022</td>\n",
       "    </tr>\n",
       "    <tr>\n",
       "      <th>3</th>\n",
       "      <td>Backpack_ArcticIceBlue</td>\n",
       "      <td>Gohan's Cape</td>\n",
       "      <td>A gift from Piccolo to inspire him to return t...</td>\n",
       "      <td>Legendary</td>\n",
       "      <td>2023</td>\n",
       "    </tr>\n",
       "    <tr>\n",
       "      <th>4</th>\n",
       "      <td>Backpack_ArcticIceTalus</td>\n",
       "      <td>Piccolo's Cape and Turban</td>\n",
       "      <td>Traditional Namekian attire.</td>\n",
       "      <td>Legendary</td>\n",
       "      <td>2023</td>\n",
       "    </tr>\n",
       "  </tbody>\n",
       "</table>\n",
       "</div>"
      ],
      "text/plain": [
       "                        id                       name  \\\n",
       "0      Backpack_AllKnowing                 Dark Grasp   \n",
       "1           Backpack_Amour          Folly's Heartcase   \n",
       "2      Backpack_Apprentice                 Mind's Eye   \n",
       "3   Backpack_ArcticIceBlue               Gohan's Cape   \n",
       "4  Backpack_ArcticIceTalus  Piccolo's Cape and Turban   \n",
       "\n",
       "                                         description     rarity added  \n",
       "0                        Clutching at a grave power.       Rare  2022  \n",
       "1                  Hard-hearted and stylishly sharp.       Rare  2023  \n",
       "2      The ancient symbol of the Whispered Conclave.  Legendary  2022  \n",
       "3  A gift from Piccolo to inspire him to return t...  Legendary  2023  \n",
       "4                       Traditional Namekian attire.  Legendary  2023  "
      ]
     },
     "execution_count": 23,
     "metadata": {},
     "output_type": "execute_result"
    }
   ],
   "source": [
    "import requests\n",
    "import json\n",
    "import pandas\n",
    "\n",
    "\n",
    "#scraping from website api\n",
    "r = requests.get(\"https://fortnite-api.com/v2/cosmetics/br\")\n",
    "\n",
    "items_dict = json.loads(r.text)\n",
    "finalItems = (items_dict[\"data\"])\n",
    "\n",
    "#converting to dataframe object and cleaning columns\n",
    "\n",
    "items = pandas.DataFrame(finalItems)\n",
    "items = items.drop(columns=[\"type\",\"series\",\"set\",\"shopHistory\",\"gameplayTags\",\"introduction\",\"images\",\"variants\",\"itemPreviewHeroPath\",\"displayAssetPath\",\"definitionPath\",\"path\",\"customExclusiveCallout\",\"unlockRequirements\",\"exclusiveDescription\",\"builtInEmoteIds\",\"metaTags\",\"showcaseVideo\",\"dynamicPakId\",\"searchTags\"])\n",
    "\n",
    "items = items.astype(str)\n",
    "\n",
    "#cleaning data with value replacement\n",
    "\n",
    "items.loc[items['rarity'].str.contains('Legendary'), 'rarity'] = 'Legendary'\n",
    "items.loc[items['rarity'].str.contains('Epic'), 'rarity'] = 'Epic'\n",
    "items.loc[items['rarity'].str.contains('Rare'), 'rarity'] = 'Rare'\n",
    "items.loc[items['rarity'].str.contains('Uncommon'), 'rarity'] = 'Uncommon'\n",
    "items.loc[items['rarity'].str.contains('Common'), 'rarity'] = 'Common'\n",
    "items.loc[items['rarity'].str.contains('Common'), 'rarity'] = 'Common'\n",
    "items.loc[items['rarity'].str.contains('Unattainable'), 'rarity'] = 'Dev Cosmetics'\n",
    "items.loc[items['rarity'].str.contains('Mythic'), 'rarity'] = 'Mythic'\n",
    "\n",
    "items.loc[items['added'].str.contains('2022'), 'added'] = '2022'\n",
    "items.loc[items['added'].str.contains('2023'), 'added'] = '2023'\n",
    "items.loc[items['added'].str.contains('2021'), 'added'] = '2021'\n",
    "items.loc[items['added'].str.contains('2020'), 'added'] = '2020'\n",
    "items.loc[items['added'].str.contains('2019'), 'added'] = '2019'\n",
    "\n",
    "items.to_csv(\"FortniteCosmetics.csv\")\n",
    "items.head()"
   ]
  },
  {
   "cell_type": "markdown",
   "id": "bef51de8",
   "metadata": {},
   "source": [
    "### Visualized data\n",
    "- I checked for the amount of different rarities\n",
    "- I also checked for when items were introduced throughout the years"
   ]
  },
  {
   "cell_type": "code",
   "execution_count": 36,
   "id": "7f2d848b",
   "metadata": {},
   "outputs": [
    {
     "data": {
      "text/plain": [
       "<AxesSubplot:title={'center':'Item Rarities'}, xlabel='Rarity', ylabel='Amount'>"
      ]
     },
     "execution_count": 36,
     "metadata": {},
     "output_type": "execute_result"
    },
    {
     "data": {
      "image/png": "[encoded data removed]",
      "text/plain": [
       "<Figure size 640x480 with 1 Axes>"
      ]
     },
     "metadata": {},
     "output_type": "display_data"
    }
   ],
   "source": [
    "#items[\"rarity\"].value_counts().plot.bar()\n",
    "y = items[\"rarity\"].value_counts()\n",
    "y.plot(kind=\"bar\",title=\"Item Rarities\",xlabel = \"Rarity\",ylabel=\"Amount\")"
   ]
  },
  {
   "cell_type": "code",
   "execution_count": 35,
   "id": "66768404",
   "metadata": {},
   "outputs": [
    {
     "data": {
      "text/plain": [
       "<AxesSubplot:title={'center':'Annual Item Releases'}, xlabel='Year', ylabel='Amount'>"
      ]
     },
     "execution_count": 35,
     "metadata": {},
     "output_type": "execute_result"
    },
    {
     "data": {
      "image/png": "[encoded data removed]",
      "text/plain": [
       "<Figure size 640x480 with 1 Axes>"
      ]
     },
     "metadata": {},
     "output_type": "display_data"
    }
   ],
   "source": [
    "#items[\"added\"].value_counts().plot.bar()\n",
    "x = items[\"added\"].value_counts()\n",
    "x.plot(kind=\"bar\",title=\"Annual Item Releases\",xlabel = \"Year\",ylabel=\"Amount\")"
   ]
  },
  {
   "cell_type": "markdown",
   "id": "9eb4b4e6",
   "metadata": {},
   "source": [
    "## Conclusions about data analysis\n",
    "\n",
    "### Viewing the data\n",
    "\n",
    "When it comes to user-owned items, there are a lot of uncommon items (green) in fortnite, with the Legendary and Common status being the least owned. The mythic and dev-test cosmetics can't be user owned, so it wouldn't be that important when it comes to user interest. The common status is probably lower than Legendary items, only because Epic uses that tag for one umbrella per season, usually the Victory Royale umbrella, which is available to all users but hard to get of course. That's why there's such little Common items, even though the name is Common. \n",
    "\n",
    "The years 2020-2022 seem to be very stable, with Epic Games pushing out similar amounts of items throughout those years\n",
    "\n",
    "### What surprised me\n",
    "\n",
    "One surprising thing to me was just how little of an amount is in legendary items, and the data seems very skewed. \n",
    "\n",
    "__In fact, Epic (purple) items are almost as out there as Uncommon, so it seems like Epic Games the company really likes to push out items and purposely make them Epic rarity to get more profits.__\n",
    "\n",
    "I didn't expect 2019 to have the most amount of items, but it might be because the API grouped past items all into 2019 when it comes to older items, since Fortnite came out in 2017. "
   ]
  }
 ],
 "metadata": {
  "kernelspec": {
   "display_name": "Python 3 (ipykernel)",
   "language": "python",
   "name": "python3"
  },
  "language_info": {
   "codemirror_mode": {
    "name": "ipython",
    "version": 3
   },
   "file_extension": ".py",
   "mimetype": "text/x-python",
   "name": "python",
   "nbconvert_exporter": "python",
   "pygments_lexer": "ipython3",
   "version": "3.9.13"
  }
 },
 "nbformat": 4,
 "nbformat_minor": 5
}
